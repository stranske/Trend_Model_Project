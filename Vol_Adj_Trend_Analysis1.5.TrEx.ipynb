{
  "cells": [
    {
      "cell_type": "markdown",
      "id": "22994893-0193-45bc-b9e3-a97b328ecaea",
      "metadata": {},
      "source": [
        "# Volatility Scaling & Portfolio Analysis\n",
        "\n",
        "This notebook demonstrates how to:\n",
        "1. Imports, Data Loader and Rf Detector\n",
        "2. Select fund (month period logic)\n",
        "3. Weight prep\n",
        "4. Core Stats + Run Analysis\n",
        "5. Export\n",
        "6. Widget /UI\n",
        "7. Output in-sample and out-of-sample results to Excel with formatting."
      ]
    },
    {
      "cell_type": "code",
      "execution_count": 1,
      "id": "30ea203f",
      "metadata": {},
      "outputs": [],
      "source": [
        "# Legacy helper and metric functions replaced by modules\n",
        "# See trend_analysis.metrics and run_analysis.py\n"
      ]
    },
    {
      "cell_type": "code",
      "execution_count": 2,
      "id": "f74bd17b",
      "metadata": {},
      "outputs": [],
      "source": [
        "import pandas as pd\n",
        "import numpy as np\n",
        "import logging\n",
        "import inspect\n",
        "from collections import namedtuple\n",
        "from typing import Dict, Optional, Callable\n",
        "import ipywidgets as widgets\n",
        "from ipyfilechooser import FileChooser\n",
        "from IPython.display import display, clear_output\n",
        "from trend_analysis.data import load_csv, identify_risk_free_fund\n",
        "from trend_analysis.core.rank_selection import (\n",
        "    FundSelectionConfig,\n",
        "    RiskStatsConfig,\n",
        "    select_funds,\n",
        "    register_metric,\n",
        "    METRIC_REGISTRY,\n",
        ")\n",
        "from trend_analysis.export import make_summary_formatter, export_to_excel\n"
      ]
    },
    {
      "cell_type": "markdown",
      "id": "9e7a576b-aa3f-42e0-bfdc-f4a950b7d97c",
      "metadata": {},
      "source": [
        "## 2. Select Funds"
      ]
    },
    {
      "cell_type": "code",
      "execution_count": 3,
      "id": "ff528d69-5a52-4b75-8af4-17974826f4ab",
      "metadata": {},
      "outputs": [],
      "source": [
        "# ===============================================================\n",
        "# 2 · SELECT_FUNDS  (restored ≤ 3-missing-months rule)\n",
        "# ===============================================================\n",
        "\n",
        "cfg = FundSelectionConfig(\n",
        "    max_missing_months           = 3,\n",
        "    max_consecutive_month_gap    = 6,\n",
        "    outlier_threshold            = 0.5,\n",
        "    zero_return_threshold        = 0.2,\n",
        "    enforce_monotonic_index      = True,\n",
        "    allow_duplicate_dates        = False,\n",
        "    max_missing_ratio            = 0.05,\n",
        "    max_drawdown                 = 0.3,\n",
        "    min_volatility               = 0.05,\n",
        "    max_volatility               = 1.0,\n",
        "    min_avg_return               = 0.0,\n",
        "    max_skewness                 = 3.0,\n",
        "    max_kurtosis                 = 10.0,\n",
        "    expected_freq                = \"B\",\n",
        "    max_gap_days                 = 3,\n",
        "    min_aum_usd                  = 1e7,\n",
        ")\n",
        "\n",
        "def select_funds(\n",
        "    df: pd.DataFrame,\n",
        "    rf_col: str,\n",
        "    fund_columns: list[str],\n",
        "    in_sdate: str,\n",
        "    in_edate: str,\n",
        "    out_sdate: str,\n",
        "    out_edate: str,\n",
        "    cfg: FundSelectionConfig,\n",
        "    selection_mode: str = \"all\",\n",
        "    random_n: int | None = None\n",
        ") -> list[str]:\n",
        "    \"\"\"\n",
        "    Select eligible funds with additional data-validity and coverage checks driven by FundSelectionConfig.\n",
        "    \"\"\"\n",
        "    # Ensure Date is sorted\n",
        "    df = df.sort_values(\"Date\")  # guarantee monotonic index\n",
        "\n",
        "    # Prepare monthly periods within analysis window\n",
        "    df[\"Month\"] = df[\"Date\"].dt.to_period(\"M\")\n",
        "    span = pd.period_range(\n",
        "        pd.Period(in_sdate, \"M\"), pd.Period(out_edate, \"M\"), freq=\"M\"\n",
        "    )\n",
        "\n",
        "    eligible_funds: list[str] = []\n",
        "    for f in fund_columns:\n",
        "        try:\n",
        "            ser = df.set_index(\"Date\")[f]\n",
        "            clean = ser.dropna()\n",
        "\n",
        "            # 1. Implausible value limits\n",
        "            if not clean.between(-cfg.implausible_value_limit, cfg.implausible_value_limit).all():\n",
        "                raise ValueError(f\"Values outside ±{cfg.implausible_value_limit}\")\n",
        "\n",
        "            # 2. Extreme outlier threshold\n",
        "            if (clean.abs() > cfg.outlier_threshold).any():\n",
        "                raise ValueError(f\"Outliers beyond ±{cfg.outlier_threshold}\")\n",
        "\n",
        "            # 3. Excessive zero-return rate\n",
        "            if (clean == 0).mean() > cfg.zero_return_threshold:\n",
        "                raise ValueError(f\"Zero-return proportion > {cfg.zero_return_threshold}\")\n",
        "\n",
        "            # 4. Monotonic date index\n",
        "            if cfg.enforce_monotonic_index and not clean.index.is_monotonic_increasing:\n",
        "                raise ValueError(\"Date index not monotonically increasing\")\n",
        "\n",
        "            # 5. Duplicate dates\n",
        "            if not cfg.allow_duplicate_dates and clean.index.duplicated().any():\n",
        "                raise ValueError(\"Duplicate dates detected in index\")\n",
        "\n",
        "            # 6. Coverage checks using config thresholds\n",
        "            m_ok = df.groupby(\"Month\")[f].apply(lambda col: col.notna().any())\n",
        "            mask = m_ok.reindex(span, fill_value=False).to_numpy()\n",
        "\n",
        "            # tolerance for missing months per-cfg\n",
        "            missing_count = (~mask).sum()\n",
        "            if missing_count > cfg.max_missing_months:\n",
        "                raise ValueError(f\"Missing-month count {missing_count} exceeds {cfg.max_missing_months}\")\n",
        "\n",
        "            # maximum run of consecutive missing months per-cfg with guard\n",
        "            temp = np.flatnonzero(np.r_[True, mask, True])\n",
        "            if temp.size <= 1:\n",
        "                gap = 0\n",
        "            else:\n",
        "                gap = np.diff(temp).max() - 1\n",
        "            if gap > cfg.max_consecutive_month_gap:\n",
        "                raise ValueError(f\"Consecutive-missing gap {gap} exceeds {cfg.max_consecutive_month_gap}\")\n",
        "\n",
        "            eligible_funds.append(f)\n",
        "\n",
        "        except ValueError:\n",
        "            continue\n",
        "        except KeyError:\n",
        "            continue\n",
        "        except Exception:\n",
        "            continue\n",
        "\n",
        "    # Final selection-mode logic\n",
        "    if selection_mode == \"all\" or random_n is None:\n",
        "        return eligible_funds\n",
        "    if selection_mode == \"random\":\n",
        "        if random_n > len(eligible_funds):\n",
        "            raise ValueError(\n",
        "                f\"random_n exceeds eligible pool: {random_n} > {len(eligible_funds)}\"\n",
        "            )\n",
        "        return list(np.random.choice(eligible_funds, random_n, replace=False))\n",
        "\n",
        "    raise ValueError(f\"Unsupported selection_mode '{selection_mode}'\")\n",
        "\n"
      ]
    },
    {
      "cell_type": "markdown",
      "id": "ac53bc18",
      "metadata": {},
      "source": [
        "## 3. Weight Prep"
      ]
    },
    {
      "cell_type": "code",
      "execution_count": 4,
      "id": "59a9bf13",
      "metadata": {},
      "outputs": [],
      "source": [
        "# ───────────────────────────────────────────────────────────────\n",
        "#  3 · WEIGHT PREP\n",
        "# ───────────────────────────────────────────────────────────────\n",
        "def prepare_weights(selected: list[str],\n",
        "                    custom: Dict[str, int] | None) -> tuple[Dict[str, float], np.ndarray]:\n",
        "    if not custom:\n",
        "        w = {f: 1/len(selected) for f in selected}\n",
        "    else:\n",
        "        missing = [f for f in selected if f not in custom]\n",
        "        if missing:\n",
        "            raise ValueError(f\"Missing weights for {missing}\")\n",
        "        w = {f: pct/100 for f, pct in custom.items()}\n",
        "        if abs(sum(w.values()) - 1) > 1e-6:\n",
        "            raise ValueError(\"Custom weights must sum to 100.\")\n",
        "    vec = np.array([w[f] for f in selected])\n",
        "    return w, vec\n"
      ]
    },
    {
      "cell_type": "markdown",
      "id": "b3666a84",
      "metadata": {},
      "source": [
        "## 4. Analysis (In-Sample & Out-of-Sample)\n",
        "Use `trend_analysis.pipeline.run_analysis` for the analysis. Previous helper functions were removed in favor of the module version."
      ]
    },
    {
      "cell_type": "markdown",
      "id": "183dc5df",
      "metadata": {},
      "source": [
        "## 5. Excel Export\n",
        "Creates an Excel file with In-Sample, Out-of-Sample and Equal-weight and User-weight."
      ]
    },
    {
      "cell_type": "code",
      "execution_count": 6,
      "id": "8e2cce23",
      "metadata": {},
      "outputs": [],
      "source": [
        "# Deprecated local export_to_excel; use trend_analysis.export.export_to_excel\\n"
      ]
    },
    {
      "cell_type": "markdown",
      "id": "ee8c2c6d",
      "metadata": {},
      "source": [
        "## 6. Run Parameters, Widgets & User Inputs\n",
        "Here we define some IPython widgets for in-sample/out-of-sample dates, target volatility, monthly cost, etc. Also lets us use custom weights."
      ]
    },
    {
      "cell_type": "markdown",
      "id": "86794206",
      "metadata": {},
      "source": [
        "### Using This Notebook\n",
        "1. Run all cells.\n",
        "2. Call `demo_run()` in a new cell to see a quick example with dummy data.\n",
        "3. To use your own data, load it into a DataFrame (make sure it has a Date column and decimal returns in other columns), then call `pipeline.run_analysis()` and `export_to_excel()`.\n",
        "4. For interactive selection, do:\n",
        "   ```python\n",
        "   display(ui_inputs)\n",
        "   ```\n",
        "   Then wire the `apply_button` to a callback function that reads the widget values and runs `pipeline.run_analysis()`.\n",
        "5. For custom weights, call:\n",
        "   ```python\n",
        "   my_weights = get_custom_weights(selected_funds)\n",
        "   ```\n",
        "   Then pass `my_weights` into your logic.\n"
      ]
    },
    {
      "cell_type": "code",
      "execution_count": null,
      "id": "687e0d59-d17a-41c8-b991-1d91d29a22d1",
      "metadata": {},
      "outputs": [],
      "source": [
        "from trend_analysis.core.rank_selection import build_ui\n",
        "from IPython.display import display\n",
        "\n",
        "display(build_ui())"
      ]
    }
  ],
  "metadata": {
    "kernelspec": {
      "display_name": "Python (base)",
      "language": "python",
      "name": "base"
    },
    "language_info": {
      "codemirror_mode": {
        "name": "ipython",
        "version": 3
      },
      "file_extension": ".py",
      "mimetype": "text/x-python",
      "name": "python",
      "nbconvert_exporter": "python",
      "pygments_lexer": "ipython3",
      "version": "3.12.2"
    }
  },
  "nbformat": 4,
  "nbformat_minor": 5
}
