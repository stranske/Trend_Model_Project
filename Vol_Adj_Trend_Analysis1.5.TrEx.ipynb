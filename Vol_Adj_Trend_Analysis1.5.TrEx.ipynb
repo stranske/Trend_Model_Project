{
 "cells": [
  {
   "cell_type": "markdown",
   "id": "22994893-0193-45bc-b9e3-a97b328ecaea",
   "metadata": {},
   "source": [
    "# Volatility Scaling & Portfolio Analysis\n",
    "\n",
    "This notebook demonstrates how to:\n",
    "1. Imports, Data Loader and Rf Detector\n",
    "2. Select fund (month period logic)\n",
    "3. Weight prep\n",
    "4. Core Stats + Run Analysis\n",
    "5. Export\n",
    "6. Widget /UI\n",
    "7. Output in-sample and out-of-sample results to Excel with formatting."
   ]
  },
  {
   "cell_type": "code",
   "execution_count": null,
   "id": "30ea203f",
   "metadata": {},
   "outputs": [],
   "source": [
    "# Legacy helper and metric functions replaced by modules\n",
    "# See trend_analysis.metrics and run_analysis.py\n"
   ]
  },
  {
   "cell_type": "code",
   "execution_count": null,
   "id": "f74bd17b",
   "metadata": {},
   "outputs": [],
   "source": [
    "import pandas as pd\n",
    "import numpy as np\n",
    "import logging\n",
    "import inspect\n",
    "from collections import namedtuple\n",
    "from typing import Dict, Optional, Callable\n",
    "import ipywidgets as widgets\n",
    "from ipyfilechooser import FileChooser\n",
    "from IPython.display import display, clear_output\n",
    "from trend_analysis.data import load_csv, identify_risk_free_fund\n",
    "from trend_analysis.core.rank_selection import (\n",
    "    FundSelectionConfig,\n",
    "    RiskStatsConfig,\n",
    "    select_funds,\n",
    "    register_metric,\n",
    "    METRIC_REGISTRY,\n",
    ")\n",
    "from trend_analysis.export import make_summary_formatter, export_to_excel\n"
   ]
  },
  {
   "cell_type": "markdown",
   "id": "9e7a576b-aa3f-42e0-bfdc-f4a950b7d97c",
   "metadata": {},
   "source": [
    "## 2. Select Funds"
   ]
  },
  {
   "cell_type": "markdown",
   "id": "ac53bc18",
   "metadata": {},
   "source": [
    "## 3. Weight Prep"
   ]
  },
  {
   "cell_type": "markdown",
   "id": "b3666a84",
   "metadata": {},
   "source": [
    "## 4. Analysis (In-Sample & Out-of-Sample)\n",
    "Use `trend_analysis.pipeline.run_analysis` for the analysis. Previous helper functions were removed in favor of the module version."
   ]
  },
  {
   "cell_type": "markdown",
   "id": "183dc5df",
   "metadata": {},
   "source": [
    "## 5. Excel Export\n",
    "Creates an Excel file with In-Sample, Out-of-Sample and Equal-weight and User-weight."
   ]
  },
  {
   "cell_type": "code",
   "execution_count": null,
   "id": "8e2cce23",
   "metadata": {},
   "outputs": [],
   "source": [
    "# Deprecated local export_to_excel; use trend_analysis.export.export_to_excel\\n"
   ]
  },
  {
   "cell_type": "markdown",
   "id": "ee8c2c6d",
   "metadata": {},
   "source": [
    "## 6. Run Parameters, Widgets & User Inputs\n",
    "Here we define some IPython widgets for in-sample/out-of-sample dates, target volatility, monthly cost, etc. Also lets us use custom weights."
   ]
  },
  {
   "cell_type": "markdown",
   "id": "86794206",
   "metadata": {},
   "source": [
    "### Using This Notebook\n",
    "1. Run all cells.\n",
    "2. Call `demo_run()` in a new cell to see a quick example with dummy data.\n",
    "3. To use your own data, load it into a DataFrame (make sure it has a Date column and decimal returns in other columns), then call `pipeline.run_analysis()` and `export_to_excel()`.\n",
    "4. For interactive selection, do:\n",
    "   ```python\n",
    "   display(ui_inputs)\n",
    "   ```\n",
    "   Then wire the `apply_button` to a callback function that reads the widget values and runs `pipeline.run_analysis()`.\n",
    "5. For custom weights, call:\n",
    "   ```python\n",
    "   my_weights = get_custom_weights(selected_funds)\n",
    "   ```\n",
    "   Then pass `my_weights` into your logic.\n"
   ]
  },
  {
   "cell_type": "code",
   "execution_count": null,
   "id": "687e0d59-d17a-41c8-b991-1d91d29a22d1",
   "metadata": {},
   "outputs": [],
   "source": [
    "from trend_analysis.core.rank_selection import build_ui\n",
    "from IPython.display import display\n",
    "\n",
    "display(build_ui())"
   ]
  }
 ],
 "metadata": {
  "kernelspec": {
   "display_name": "Python (base)",
   "language": "python",
   "name": "base"
  },
  "language_info": {
   "codemirror_mode": {
    "name": "ipython",
    "version": 3
   },
   "file_extension": ".py",
   "mimetype": "text/x-python",
   "name": "python",
   "nbconvert_exporter": "python",
   "pygments_lexer": "ipython3",
   "version": "3.12.2"
  }
 },
 "nbformat": 4,
 "nbformat_minor": 5
}
