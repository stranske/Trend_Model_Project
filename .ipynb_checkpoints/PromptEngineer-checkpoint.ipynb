{
 "cells": [
  {
   "cell_type": "code",
   "execution_count": null,
   "id": "d03db469-8dbe-420a-bb0d-58602e7c7ad4",
   "metadata": {},
   "outputs": [],
   "source": [
    "import pandas as pd\n",
    "from textdistance import jaro_winkler\n",
    "from sentence_transformers import SentenceTransformer, util\n",
    "\n",
    "# Load prompts\n",
    "df = pd.read_csv('prompts.csv')\n",
    "\n",
    "# Quick lexical check (fast, identifies exact/similar wording)\n",
    "def lexical_duplication_check(df, threshold=0.88):\n",
    "    dupes = []\n",
    "    texts = df['Prompt'].tolist()\n",
    "    for i in range(len(texts)):\n",
    "        for j in range(i+1, len(texts)):\n",
    "            sim = jaro_winkler.normalized_similarity(texts[i], texts[j])\n",
    "            if sim > threshold:\n",
    "                dupes.append((i, j, sim))\n",
    "    return dupes\n",
    "\n",
    "# Semantic drift check (more nuanced)\n",
    "def semantic_drift_check(df, concept_col='ConceptTag', branch_col='Branch', lib_col='Library', threshold=0.78):\n",
    "    model = SentenceTransformer(\"all-MiniLM-L6-v2\")\n",
    "    embeddings = model.encode(df['Prompt'].tolist(), convert_to_tensor=True)\n",
    "    drift_flags = []\n",
    "\n",
    "    for idx, row in df.iterrows():\n",
    "        matches = df[(df[concept_col] == row[concept_col]) & (df[branch_col] == row[branch_col]) & (df[lib_col] != row[lib_col])]\n",
    "        for match_idx in matches.index:\n",
    "            similarity = util.cos_sim(embeddings[idx], embeddings[match_idx]).item()\n",
    "            if similarity > threshold:\n",
    "                drift_flags.append((idx, match_idx, similarity))\n",
    "\n",
    "    return drift_flags\n",
    "\n",
    "# Run checks\n",
    "lexical_duplicates = lexical_duplication_check(df)\n",
    "semantic_drifts = semantic_drift_check(df)\n",
    "\n",
    "# Review flagged pairs manually\n",
    "print(\"Lexical duplicates flagged:\")\n",
    "for i, j, sim in lexical_duplicates:\n",
    "    print(f\"Rows {i} and {j}: similarity={sim:.2f}\")\n",
    "\n",
    "print(\"\\nSemantic drift flagged:\")\n",
    "for i, j, sim in semantic_drifts:\n",
    "    print(f\"Rows {i} ({df.at[i, 'Library']}) and {j} ({df.at[j, 'Library']}): similarity={sim:.2f}\")"
   ]
  }
 ],
 "metadata": {
  "kernelspec": {
   "display_name": "Python (base)",
   "language": "python",
   "name": "base"
  },
  "language_info": {
   "codemirror_mode": {
    "name": "ipython",
    "version": 3
   },
   "file_extension": ".py",
   "mimetype": "text/x-python",
   "name": "python",
   "nbconvert_exporter": "python",
   "pygments_lexer": "ipython3",
   "version": "3.12.2"
  }
 },
 "nbformat": 4,
 "nbformat_minor": 5
}
