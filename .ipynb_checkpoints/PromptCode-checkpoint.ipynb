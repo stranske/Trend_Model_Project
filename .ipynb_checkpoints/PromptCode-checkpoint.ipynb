{
 "cells": [
  {
   "cell_type": "code",
   "execution_count": null,
   "id": "db6e627f-6b22-44b8-a552-c2a8c766b273",
   "metadata": {},
   "outputs": [],
   "source": [
    "import pandas as pd\n",
    "\n",
    "# Step 1: Load the existing template spreadsheet (with PromptID, Library, Category, Sub-node, ConceptTag, blank Prompt cells)\n",
    "template_path = \"/mnt/data/insight_generation_full_library.xlsx\"\n",
    "df_template = pd.read_excel(template_path)\n",
    "\n",
    "# Step 2: Load your master prompt mapping (PromptID → Prompt text)\n",
    "# Assume this mapping was generated and saved previously as a CSV or Excel\n",
    "mapping_path = \"/mnt/data/insight_generation_full_prompts.xlsx\"  # Replace with actual path\n",
    "df_mapping = pd.read_excel(mapping_path)\n",
    "\n",
    "# Ensure the Prompt ID columns align\n",
    "df_mapping.rename(columns={'Prompt ID': 'Prompt ID', 'Prompt': 'Prompt'}, inplace=True)\n",
    "\n",
    "# Step 3: Merge template with mapping to populate the Prompt column\n",
    "df_filled = df_template.drop(columns=['Prompt']).merge(\n",
    "    df_mapping[['Prompt ID', 'Prompt']],\n",
    "    on='Prompt ID',\n",
    "    how='left'\n",
    ")\n",
    "\n",
    "# Step 4: Save the populated sheet in all required formats\n",
    "output_base = \"/mnt/data/filled_insight_generation_library\"\n",
    "df_filled.to_excel(f\"{output_base}.xlsx\", index=False)\n",
    "df_filled.to_csv(f\"{output_base}.csv\", index=False)\n",
    "df_filled.to_json(f\"{output_base}.json\", orient='records')\n",
    "\n",
    "print(\"Populated prompts sheet saved to:\")\n",
    "print(f\"  • {output_base}.xlsx\")\n",
    "print(f\"  • {output_base}.csv\")\n",
    "print(f\"  • {output_base}.json\")\n"
   ]
  }
 ],
 "metadata": {
  "kernelspec": {
   "display_name": "Python (base)",
   "language": "python",
   "name": "base"
  },
  "language_info": {
   "codemirror_mode": {
    "name": "ipython",
    "version": 3
   },
   "file_extension": ".py",
   "mimetype": "text/x-python",
   "name": "python",
   "nbconvert_exporter": "python",
   "pygments_lexer": "ipython3",
   "version": "3.12.2"
  }
 },
 "nbformat": 4,
 "nbformat_minor": 5
}
