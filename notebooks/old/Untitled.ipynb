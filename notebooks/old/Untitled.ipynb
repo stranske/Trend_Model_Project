{
 "cells": [
  {
   "cell_type": "code",
   "execution_count": 3,
   "id": "ff1ae285-152a-4ffd-9f8e-0390cc9509a8",
   "metadata": {},
   "outputs": [
    {
     "data": {
      "text/plain": [
       "False"
      ]
     },
     "execution_count": 3,
     "metadata": {},
     "output_type": "execute_result"
    }
   ],
   "source": [
    "'run_analysis' in globals()"
   ]
  },
  {
   "cell_type": "code",
   "execution_count": null,
   "id": "90e0566f-0877-4919-b0cb-d13cf76d0246",
   "metadata": {},
   "outputs": [],
   "source": []
  }
 ],
 "metadata": {
  "kernelspec": {
   "display_name": "Python (base)",
   "language": "python",
   "name": "base"
  },
  "language_info": {
   "codemirror_mode": {
    "name": "ipython",
    "version": 3
   },
   "file_extension": ".py",
   "mimetype": "text/x-python",
   "name": "python",
   "nbconvert_exporter": "python",
   "pygments_lexer": "ipython3",
   "version": "3.12.2"
  }
 },
 "nbformat": 4,
 "nbformat_minor": 5
}
