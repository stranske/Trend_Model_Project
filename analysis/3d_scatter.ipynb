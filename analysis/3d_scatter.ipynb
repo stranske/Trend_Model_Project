{
 "cells": [
  {
   "cell_type": "markdown",
   "id": "6720a5a8",
   "metadata": {},
   "source": [
    "# Analysis: 3D Scatter Plot"
   ]
  },
  {
   "cell_type": "code",
   "execution_count": null,
   "id": "4f7a56f0",
   "metadata": {},
   "outputs": [],
   "source": [
    "import pandas as pd\n",
    "from mpl_toolkits.mplot3d import Axes3D\n",
    "import matplotlib.pyplot as plt\n",
    "\n",
    "# Load dataset\n",
    "csv_path = '../hedge_fund_returns_with_indexes.csv'\n",
    "df = pd.read_csv(csv_path, parse_dates=['Date'])\n",
    "\n",
    "# Select three numeric columns\n",
    "cols = ['Risk-Free Rate', 'Quantum Capital', 'Crescent Strategies']\n",
    "sub = df[cols].dropna()\n",
    "\n",
    "# Create 3D scatter plot\n",
    "fig = plt.figure()\n",
    "ax = fig.add_subplot(111, projection='3d')\n",
    "ax.scatter(sub[cols[0]], sub[cols[1]], sub[cols[2]], c='blue', marker='o')\n",
    "ax.set_xlabel(cols[0])\n",
    "ax.set_ylabel(cols[1])\n",
    "ax.set_zlabel(cols[2])\n",
    "ax.set_title('3D Scatter of Fund Returns')\n",
    "plt.show()\n"
   ]
  }
 ],
 "metadata": {},
 "nbformat": 4,
 "nbformat_minor": 5
}
